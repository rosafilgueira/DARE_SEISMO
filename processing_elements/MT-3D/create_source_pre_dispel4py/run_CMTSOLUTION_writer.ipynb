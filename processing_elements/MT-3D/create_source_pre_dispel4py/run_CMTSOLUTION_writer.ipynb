{
 "cells": [
  {
   "cell_type": "markdown",
   "metadata": {},
   "source": [
    "### Using the create_source function\n",
    "This notebook should give an overview of the features of create_source.\n"
   ]
  },
  {
   "cell_type": "markdown",
   "metadata": {},
   "source": [
    "Import python class $\\textit{create_source}$ from libary"
   ]
  },
  {
   "cell_type": "code",
   "execution_count": 1,
   "metadata": {},
   "outputs": [],
   "source": [
    "from util import create_source"
   ]
  },
  {
   "cell_type": "markdown",
   "metadata": {},
   "source": [
    "Define path to CMTSOLUTION file. There are three options:\n",
    "\n",
    "1. **read** from local file\n",
    "2. **download** from .zip file\n",
    "3. **create** from JSON file        \n",
    "\n",
    "Select $\\textit{file_url}$ path to CMTSOLUTION file and $\\textit{out_url}$ to save the created files"
   ]
  },
  {
   "cell_type": "code",
   "execution_count": 2,
   "metadata": {},
   "outputs": [],
   "source": [
    "download_url = 'Data.zip'    \n",
    "local_url = 'CMTSOLUTION'\n",
    "json_url = 'Input.json'\n",
    "\n",
    "out_url = 'Out'\n"
   ]
  },
  {
   "cell_type": "markdown",
   "metadata": {},
   "source": [
    "Define pertubation list like $[\\Delta M_{ij},\\Delta Z,\\Delta \\vec{x}]$\n",
    "                                          \n",
    "If set to None, the code uses a default pertubation defined by:                      \n",
    "$\\Delta M_{ij}$ = max($M_{ij}$)                                         \n",
    "$\\Delta Z$ = $\\frac{Z}{5}$                                           \n",
    "$\\Delta \\vec{x}$ = $0.18^\\circ$ for UTM or 20 km for carthesian (based on UTM flag settings)     \n",
    "If you add pertubations, it is possible to set $\\Delta M_{ij}$ to 'auto'. The code will then use max($M_{ij}$) as \n",
    "pertubation. Else add a value in dyne*cm (10^xx).\n",
    "We also included the flag UTM=True/False which accounts for unit differences witnin the coordinate system:\n",
    "* UTM = True: lat/lon is in UTM coordinates --> m\n",
    "* UTM = False: lat/lon is in Geo coordinates --> $^\\circ$                             \n",
    "--> $1^\\circ \\approx 111 $ km \n",
    "\n",
    "Note: In respect of synthetic data reusability, a constant value for $\\Delta M_{ij}$ indipendent of the API run ID would be preferable. This parameter only scales the signal Amplitude and can be easily changed later if the initial  pertubation is known. This can be implemented in a later step during the preprocessing step before the run of pycmt3d etc.                             \n",
    "This default setting is not usfull for the location, because it might be influenced by the resolution of the velocity model                                                      \n",
    "--> high resolution results in a small pertubation and reversed "
   ]
  },
  {
   "cell_type": "code",
   "execution_count": 3,
   "metadata": {},
   "outputs": [],
   "source": [
    "pertubation = ['auto',3.0,20000]"
   ]
  },
  {
   "cell_type": "markdown",
   "metadata": {},
   "source": [
    "Choose number of derivatives:                                                    \n",
    "6 $\\Rightarrow$ Moment Tensor Elements                                                              \n",
    "7 $\\Rightarrow$ Moment Tensor Elements and depth                                            \n",
    "9 $\\Rightarrow$ Moment Tensor Elements and hypocenter location (depth, latitude, longitude)                         "
   ]
  },
  {
   "cell_type": "code",
   "execution_count": 4,
   "metadata": {},
   "outputs": [],
   "source": [
    "Npar = 9"
   ]
  },
  {
   "cell_type": "markdown",
   "metadata": {},
   "source": [
    "The class $\\textit{create_source}$ currently offers three functions:                      \n",
    "$\\textit{download_CMTSOLUTION(index)}$                                                     \n",
    "$\\textit{load_local_CMTSOLUTION(index)}$                                                     \n",
    "$\\textit{create_CMTSOLUTION(index)}$                                                   \n",
    "Parameter index governs the pertubated entry in the CMTSOLUTION file. If set to None, the original file is created.\n"
   ]
  },
  {
   "cell_type": "markdown",
   "metadata": {},
   "source": [
    "Run with download access"
   ]
  },
  {
   "cell_type": "code",
   "execution_count": 5,
   "metadata": {},
   "outputs": [],
   "source": [
    "create_CMT = create_source(file_url=download_url,out_url=out_url+'_Download/',pertubation=pertubation,UTM=False)\n",
    "for MTi in range(Npar):\n",
    "    create_CMT.download_CMTSOLUTION(MTi)"
   ]
  },
  {
   "cell_type": "markdown",
   "metadata": {},
   "source": [
    "Create initial CMTSOLUTION file with download access. Hereby, the settings for pertubation are ignored."
   ]
  },
  {
   "cell_type": "code",
   "execution_count": 6,
   "metadata": {},
   "outputs": [],
   "source": [
    "create_CMT.download_CMTSOLUTION(None)"
   ]
  },
  {
   "cell_type": "markdown",
   "metadata": {},
   "source": [
    "Run with local access"
   ]
  },
  {
   "cell_type": "code",
   "execution_count": 7,
   "metadata": {},
   "outputs": [
    {
     "name": "stdout",
     "output_type": "stream",
     "text": [
      "Caution! You are using the default setting for location pertubation.\n",
      "Set pertubation=[dMij,dZ,dX] for custom parameterization!\n",
      "Caution! You are using the default setting for UTM coordinates.\n"
     ]
    }
   ],
   "source": [
    "pertubation = None\n",
    "create_CMT = create_source(file_url=local_url,out_url=out_url+'_Local/',pertubation=pertubation,UTM=True)\n",
    "for MTi in range(Npar):\n",
    "    create_CMT.load_local_CMTSOLUTION(MTi)"
   ]
  },
  {
   "cell_type": "markdown",
   "metadata": {},
   "source": [
    "Run with JSON file"
   ]
  },
  {
   "cell_type": "code",
   "execution_count": 8,
   "metadata": {},
   "outputs": [],
   "source": [
    "\n",
    "pertubation = ['auto',3.0,0.3]\n",
    "create_CMT = create_source(file_url=json_url,out_url=out_url+'_Json/',pertubation=pertubation,UTM=True)\n",
    "for MTi in range(Npar):\n",
    "    create_CMT.create_CMTSOLUTION_from_json(MTi)"
   ]
  },
  {
   "cell_type": "markdown",
   "metadata": {},
   "source": [
    "### Json execution"
   ]
  },
  {
   "cell_type": "code",
   "execution_count": 9,
   "metadata": {},
   "outputs": [
    {
     "name": "stdout",
     "output_type": "stream",
     "text": [
      "[u'longorUTM']\n"
     ]
    }
   ],
   "source": [
    "from util import json_organizer\n",
    "\n",
    "json_url = 'Input.json'\n",
    "out_url = 'Out_jorganizer/'\n",
    "\n",
    "json_organizer(json_url,out_url)"
   ]
  },
  {
   "cell_type": "code",
   "execution_count": null,
   "metadata": {},
   "outputs": [],
   "source": []
  }
 ],
 "metadata": {
  "kernelspec": {
   "display_name": "Python 2",
   "language": "python",
   "name": "python2"
  },
  "language_info": {
   "codemirror_mode": {
    "name": "ipython",
    "version": 2
   },
   "file_extension": ".py",
   "mimetype": "text/x-python",
   "name": "python",
   "nbconvert_exporter": "python",
   "pygments_lexer": "ipython2",
   "version": "2.7.15"
  }
 },
 "nbformat": 4,
 "nbformat_minor": 2
}
