{
 "cells": [
  {
   "cell_type": "code",
   "execution_count": 1,
   "metadata": {},
   "outputs": [
    {
     "data": {
      "text/plain": [
       "['/Users/aspinuso2/project-dare/WP6_EPOS/processing_elements/MISFIT_RA',\n",
       " '/anaconda3/lib/python37.zip',\n",
       " '/anaconda3/lib/python3.7',\n",
       " '/anaconda3/lib/python3.7/lib-dynload',\n",
       " '',\n",
       " '/anaconda3/lib/python3.7/site-packages',\n",
       " '/anaconda3/lib/python3.7/site-packages/aeosa',\n",
       " '/anaconda3/lib/python3.7/site-packages/IPython/extensions',\n",
       " '/Users/aspinuso2/.ipython']"
      ]
     },
     "execution_count": 1,
     "metadata": {},
     "output_type": "execute_result"
    }
   ],
   "source": [
    "import sys\n",
    "sys.path"
   ]
  },
  {
   "cell_type": "code",
   "execution_count": 2,
   "metadata": {},
   "outputs": [
    {
     "name": "stdout",
     "output_type": "stream",
     "text": [
      "env: PYTHONPATH=$PYTHONPATH:.\n",
      "env: MISFIT_PREP_CONFIG=processing.json\n"
     ]
    }
   ],
   "source": [
    "%env PYTHONPATH=$PYTHONPATH:.\n",
    "%env MISFIT_PREP_CONFIG=processing.json"
   ]
  },
  {
   "cell_type": "code",
   "execution_count": 3,
   "metadata": {},
   "outputs": [],
   "source": [
    "import json\n",
    "import os\n",
    "import preprocessing_functions as mf\n",
    "from preprocessing_functions import get_event_time, get_synthetics, sync_cut, rotate_data\n",
    "from dispel4py.core import GenericPE\n",
    "from dispel4py.base import create_iterative_chain, ConsumerPE, IterativePE\n",
    "from dispel4py.workflow_graph import WorkflowGraph\n",
    "from dispel4py.new import simple_process\n",
    "\n",
    "\n",
    "class ReadDataPE(GenericPE):\n",
    "    def __init__(self):\n",
    "        GenericPE.__init__(self)\n",
    "        self._add_input('input')\n",
    "        self._add_output('output_real')\n",
    "        self._add_output('output_synt')\n",
    "        self.counter = 0\n",
    "\n",
    "    def process(self, inputs):\n",
    "        params = inputs['input']\n",
    "        stations = params['station']\n",
    "        networks = params['network']\n",
    "        data_dir = params['data_dir']\n",
    "        synt_dir = params['synt_dir']\n",
    "        event_file = params['events']\n",
    "        event_id = params['event_id']\n",
    "        stations_dir = params['stations_dir']\n",
    "        output_dir = params['output_dir']\n",
    "        fe = 'v'\n",
    "        if self.output_units == 'velocity':\n",
    "            fe = 'v'\n",
    "        elif self.output_units == 'displacement':\n",
    "            fe = 'd'\n",
    "        elif self.output_units == 'acceleration':\n",
    "            fe = 'a'\n",
    "        else:\n",
    "            self.log('Did not recognise output units: %s' % output_units)\n",
    "        quakeml = event_file\n",
    "        for i in range(len(stations)):\n",
    "            station = stations[i]\n",
    "            network = networks[i]\n",
    "            data_file = os.path.join(data_dir, network + \".\" + station + \"..\" + '?H?.mseed')\n",
    "            synt_file = os.path.join(synt_dir, network + \".\" + station + \".\" + '?X?.seed' + fe)\n",
    "            ### in case we have the ascii synthetic traces, we have to comment the previous line, and uncomment the following one####### \n",
    "            #synt_file = os.path.join(synt_dir, network + \".\" + station + \".\" + '?X?.sem' + fe)\n",
    "            sxml = os.path.join(stations_dir, network + \".\" + station + \".xml\")\n",
    "            real_stream, sta, event = mf.read_stream(data_file, sxml=sxml,\n",
    "                                                  event_file=quakeml,\n",
    "                                                  event_id=event_id)\n",
    "            synt_stream = get_synthetics(synt_file, \n",
    "                                         get_event_time(quakeml, event_id), station, network)\n",
    "            data, synt = sync_cut(real_stream, synt_stream)\n",
    "            self.write(\n",
    "                'output_real', [data, { \n",
    "                    'station' : sta, \n",
    "                    'event' : event, \n",
    "                    'stationxml' : sxml, \n",
    "                    'quakeml' : quakeml, \n",
    "                    'output_dir' : output_dir }\n",
    "                ])\n",
    "            self.write(\n",
    "                'output_synt', [synt, {\n",
    "                    'station' : sta, \n",
    "                    'event' : event, \n",
    "                    'stationxml' : sxml, \n",
    "                    'quakeml' : quakeml, \n",
    "                    'output_dir' : output_dir }\n",
    "                ])\n",
    "\n",
    "class RotationPE(IterativePE):\n",
    "    def __init__(self, tag):\n",
    "        IterativePE.__init__(self)\n",
    "        self.tag = tag\n",
    "\n",
    "    def _process(self, data):\n",
    "        stream, metadata = data\n",
    "        output_dir = metadata['output_dir']\n",
    "        stations = metadata['station']\n",
    "        event = metadata['event']\n",
    "        stats = stream[0].stats\n",
    "        filename = \"%s.%s.%s.png\" % (\n",
    "            stats['network'], stats['station'], self.tag)\n",
    "        #stream.plot(outfile=os.path.join(output_dir, filename))\n",
    "        stream = rotate_data(stream, stations, event)\n",
    "        filename = \"rotate-%s.%s.%s.png\" % (\n",
    "            stats['network'], stats['station'], self.tag)\n",
    "        #stream.plot(outfile=os.path.join(output_dir, filename))\n",
    "        return (stream, metadata)\n",
    "\n",
    "\n",
    "class StoreStream(ConsumerPE):\n",
    "    def __init__(self, tag):\n",
    "        ConsumerPE.__init__(self)\n",
    "        self.tag = tag\n",
    "\n",
    "    def _process(self, data):\n",
    "        filelist = {}\n",
    "        stream, metadata = data\n",
    "        output_dir = metadata['output_dir']\n",
    "        for i in range(len(stream)):\n",
    "            stats = stream[i].stats\n",
    "            filename = os.path.join(output_dir, \"%s.%s.%s.%s\" % (\n",
    "                stats['network'], stats['station'], stats['channel'], self.tag))\n",
    "            stream[i].write(filename, format='MSEED')\n",
    "            filelist[stats['channel']] = filename\n",
    "\n",
    "\n",
    "class MisfitPreprocessingFunctionPE(IterativePE):\n",
    "\n",
    "    def __init__(self):\n",
    "        IterativePE.__init__(self)\n",
    "\n",
    "    def _process(self, data):\n",
    "        stream, metadata = data\n",
    "        result = self.compute_fn(stream, **self.params)\n",
    "        return result, metadata\n",
    "\n",
    "\n",
    "def create_processing_chain(proc):\n",
    "    processes = []\n",
    "    for p in proc:\n",
    "        fn_name = p['type']\n",
    "        params = p['parameters']\n",
    "        fn = getattr(mf, fn_name)\n",
    "        processes.append((fn, params))\n",
    "    return create_iterative_chain(processes, FunctionPE_class=MisfitPreprocessingFunctionPE)\n",
    "\n",
    "with open(os.environ['MISFIT_PREP_CONFIG']) as f:\n",
    "    proc = json.load(f)\n",
    "\n",
    "real_preprocess = create_processing_chain(proc['data_processing'])\n",
    "synt_preprocess = create_processing_chain(proc['synthetics_processing'])\n",
    "    \n",
    "graph = WorkflowGraph()\n",
    "read = ReadDataPE()\n",
    "read.name = 'data'\n",
    "read.output_units = proc['output_units']\n",
    "rotate_real = RotationPE('data')\n",
    "rotate_synt = RotationPE('synth')\n",
    "store_real = StoreStream('data')\n",
    "store_synt = StoreStream('synth')\n",
    "graph.connect(read, 'output_real', real_preprocess, 'input')\n",
    "graph.connect(read, 'output_synt', synt_preprocess, 'input')\n",
    "if proc['rotate_to_ZRT']:\n",
    "    graph.connect(real_preprocess, 'output', rotate_real, 'input')\n",
    "    graph.connect(synt_preprocess, 'output', rotate_synt, 'input')\n",
    "    graph.connect(rotate_real, 'output', store_real, 'input')\n",
    "    graph.connect(rotate_synt, 'output', store_synt, 'input')\n",
    "else:\n",
    "    graph.connect(real_preprocess, 'output', store_real, 'input')\n",
    "    graph.connect(synt_preprocess, 'output', store_synt, 'input')\n"
   ]
  },
  {
   "cell_type": "code",
   "execution_count": 4,
   "metadata": {},
   "outputs": [
    {
     "name": "stdout",
     "output_type": "stream",
     "text": [
      "Inputs: {'data29': [{'input': {'data_dir': './misfit_data/data', 'synt_dir': './misfit_data/synth', 'events': './misfit_data/events_simulation_CI_CI_test_0_1507128030823', 'event_id': 'smi:webservices.ingv.it/fdsnws/event/1/query?eventId=1744261', 'stations_dir': './misfit_data/stations', 'output_dir': './misfit_data/output', 'network': ['IV'], 'station': ['ARRO']}}]}\n",
      "/anaconda3/lib/python3.7/site-packages/obspy/core/trace.py:2111: FutureWarning: Conversion of the second argument of issubdtype from `float` to `np.floating` is deprecated. In future, it will be treated as `np.float64 == np.dtype(float).type`.\n",
      "  if not np.issubdtype(self.data.dtype, float):\n",
      "13.5697 41.7143\n",
      "/anaconda3/lib/python3.7/site-packages/obspy/io/mseed/core.py:772: UserWarning: The encoding specified in trace.stats.mseed.encoding does not match the dtype of the data.\n",
      "A suitable encoding will be chosen.\n",
      "  warnings.warn(msg, UserWarning)\n",
      "13.5697 41.7143\n",
      "SimplePE: Processed 1 iteration.\n",
      "Outputs: {}\n",
      "ELAPSED TIME: 0.38344287872314453\n"
     ]
    }
   ],
   "source": [
    "!python -m dispel4py.new.processor simple create_misfit_prep.py -f misfit_input.jsn"
   ]
  },
  {
   "cell_type": "code",
   "execution_count": 5,
   "metadata": {},
   "outputs": [
    {
     "name": "stdout",
     "output_type": "stream",
     "text": [
      "Inputs: {'data': [{'input': {'data_dir': './misfit_data/data', 'synt_dir': './misfit_data/synth', 'events': './misfit_data/events_simulation_CI_CI_test_0_1507128030823', 'event_id': 'smi:webservices.ingv.it/fdsnws/event/1/query?eventId=1744261', 'stations_dir': './misfit_data/stations', 'output_dir': './misfit_data/output', 'network': ['IV'], 'station': ['ARRO']}}]}\n"
     ]
    },
    {
     "ename": "AttributeError",
     "evalue": "'WorkflowGraph' object has no attribute 'id'",
     "output_type": "error",
     "traceback": [
      "\u001b[0;31m---------------------------------------------------------------------------\u001b[0m",
      "\u001b[0;31mAttributeError\u001b[0m                            Traceback (most recent call last)",
      "\u001b[0;32m<ipython-input-5-19d88b7b4fa0>\u001b[0m in \u001b[0;36m<module>\u001b[0;34m\u001b[0m\n\u001b[1;32m      1\u001b[0m \u001b[0;32mfrom\u001b[0m \u001b[0mdispel4py\u001b[0m\u001b[0;34m.\u001b[0m\u001b[0mnew\u001b[0m \u001b[0;32mimport\u001b[0m \u001b[0msimple_process\u001b[0m\u001b[0;34m\u001b[0m\u001b[0;34m\u001b[0m\u001b[0m\n\u001b[1;32m      2\u001b[0m \u001b[0minput_data\u001b[0m \u001b[0;34m=\u001b[0m \u001b[0;34m{\u001b[0m \u001b[0;34m'data'\u001b[0m \u001b[0;34m:\u001b[0m \u001b[0;34m[\u001b[0m \u001b[0;34m{\u001b[0m\u001b[0;34m'input'\u001b[0m\u001b[0;34m:\u001b[0m \u001b[0;34m{\u001b[0m\u001b[0;34m'data_dir'\u001b[0m\u001b[0;34m:\u001b[0m \u001b[0;34m'./misfit_data/data'\u001b[0m\u001b[0;34m,\u001b[0m \u001b[0;34m'synt_dir'\u001b[0m\u001b[0;34m:\u001b[0m \u001b[0;34m'./misfit_data/synth'\u001b[0m\u001b[0;34m,\u001b[0m \u001b[0;34m'events'\u001b[0m\u001b[0;34m:\u001b[0m \u001b[0;34m'./misfit_data/events_simulation_CI_CI_test_0_1507128030823'\u001b[0m\u001b[0;34m,\u001b[0m \u001b[0;34m'event_id'\u001b[0m\u001b[0;34m:\u001b[0m \u001b[0;34m'smi:webservices.ingv.it/fdsnws/event/1/query?eventId=1744261'\u001b[0m\u001b[0;34m,\u001b[0m \u001b[0;34m'stations_dir'\u001b[0m\u001b[0;34m:\u001b[0m \u001b[0;34m'./misfit_data/stations'\u001b[0m\u001b[0;34m,\u001b[0m \u001b[0;34m'output_dir'\u001b[0m\u001b[0;34m:\u001b[0m \u001b[0;34m'./misfit_data/output'\u001b[0m\u001b[0;34m,\u001b[0m \u001b[0;34m'network'\u001b[0m\u001b[0;34m:\u001b[0m \u001b[0;34m[\u001b[0m\u001b[0;34m'IV'\u001b[0m\u001b[0;34m]\u001b[0m\u001b[0;34m,\u001b[0m \u001b[0;34m'station'\u001b[0m\u001b[0;34m:\u001b[0m \u001b[0;34m[\u001b[0m\u001b[0;34m'ARRO'\u001b[0m\u001b[0;34m]\u001b[0m\u001b[0;34m}\u001b[0m\u001b[0;34m}\u001b[0m\u001b[0;34m]\u001b[0m\u001b[0;34m}\u001b[0m\u001b[0;34m\u001b[0m\u001b[0;34m\u001b[0m\u001b[0m\n\u001b[0;32m----> 3\u001b[0;31m \u001b[0msimple_process\u001b[0m\u001b[0;34m.\u001b[0m\u001b[0mprocess\u001b[0m\u001b[0;34m(\u001b[0m\u001b[0mgraph\u001b[0m\u001b[0;34m,\u001b[0m \u001b[0minput_data\u001b[0m\u001b[0;34m)\u001b[0m\u001b[0;34m\u001b[0m\u001b[0;34m\u001b[0m\u001b[0m\n\u001b[0m\u001b[1;32m      4\u001b[0m \u001b[0mprint\u001b[0m\u001b[0;34m(\u001b[0m\u001b[0;34m\"Result is %s\"\u001b[0m \u001b[0;34m%\u001b[0m\u001b[0mresult\u001b[0m\u001b[0;34m)\u001b[0m\u001b[0;34m\u001b[0m\u001b[0;34m\u001b[0m\u001b[0m\n",
      "\u001b[0;32m~/project-dare/WP6_EPOS/processing_elements/MISFIT_RA/dispel4py/new/simple_process.py\u001b[0m in \u001b[0;36mprocess\u001b[0;34m(workflow, inputs, args, resultmappings)\u001b[0m\n\u001b[1;32m    144\u001b[0m     \u001b[0;32mexcept\u001b[0m\u001b[0;34m:\u001b[0m\u001b[0;34m\u001b[0m\u001b[0;34m\u001b[0m\u001b[0m\n\u001b[1;32m    145\u001b[0m         \u001b[0mprint\u001b[0m\u001b[0;34m(\u001b[0m\u001b[0;34m'Inputs: %s'\u001b[0m \u001b[0;34m%\u001b[0m \u001b[0;34m{\u001b[0m\u001b[0mpe\u001b[0m\u001b[0;34m:\u001b[0m \u001b[0mdata\u001b[0m \u001b[0;32mfor\u001b[0m \u001b[0mpe\u001b[0m\u001b[0;34m,\u001b[0m \u001b[0mdata\u001b[0m \u001b[0;32min\u001b[0m \u001b[0minputs\u001b[0m\u001b[0;34m.\u001b[0m\u001b[0mitems\u001b[0m\u001b[0;34m(\u001b[0m\u001b[0;34m)\u001b[0m\u001b[0;34m}\u001b[0m\u001b[0;34m)\u001b[0m\u001b[0;34m\u001b[0m\u001b[0;34m\u001b[0m\u001b[0m\n\u001b[0;32m--> 146\u001b[0;31m     \u001b[0mresults\u001b[0m \u001b[0;34m=\u001b[0m \u001b[0mprocess_and_return\u001b[0m\u001b[0;34m(\u001b[0m\u001b[0mworkflow\u001b[0m\u001b[0;34m,\u001b[0m \u001b[0minputs\u001b[0m\u001b[0;34m,\u001b[0m \u001b[0mresultmappings\u001b[0m\u001b[0;34m)\u001b[0m\u001b[0;34m\u001b[0m\u001b[0;34m\u001b[0m\u001b[0m\n\u001b[0m\u001b[1;32m    147\u001b[0m     \u001b[0mprint\u001b[0m\u001b[0;34m(\u001b[0m\u001b[0;34m'Outputs: %s'\u001b[0m \u001b[0;34m%\u001b[0m \u001b[0mresults\u001b[0m\u001b[0;34m)\u001b[0m\u001b[0;34m\u001b[0m\u001b[0;34m\u001b[0m\u001b[0m\n\u001b[1;32m    148\u001b[0m \u001b[0;34m\u001b[0m\u001b[0m\n",
      "\u001b[0;32m~/project-dare/WP6_EPOS/processing_elements/MISFIT_RA/dispel4py/new/simple_process.py\u001b[0m in \u001b[0;36mprocess_and_return\u001b[0;34m(workflow, inputs, resultmappings)\u001b[0m\n\u001b[1;32m     99\u001b[0m         \u001b[0mnode\u001b[0m\u001b[0;34m.\u001b[0m\u001b[0mgetContainedObject\u001b[0m\u001b[0;34m(\u001b[0m\u001b[0;34m)\u001b[0m\u001b[0;34m.\u001b[0m\u001b[0mnumprocesses\u001b[0m \u001b[0;34m=\u001b[0m \u001b[0;36m1\u001b[0m\u001b[0;34m\u001b[0m\u001b[0;34m\u001b[0m\u001b[0m\n\u001b[1;32m    100\u001b[0m     \u001b[0mprocesses\u001b[0m\u001b[0;34m,\u001b[0m \u001b[0minputmappings\u001b[0m\u001b[0;34m,\u001b[0m \u001b[0moutputmappings\u001b[0m \u001b[0;34m=\u001b[0m\u001b[0;31m \u001b[0m\u001b[0;31m\\\u001b[0m\u001b[0;34m\u001b[0m\u001b[0;34m\u001b[0m\u001b[0m\n\u001b[0;32m--> 101\u001b[0;31m         \u001b[0mprocessor\u001b[0m\u001b[0;34m.\u001b[0m\u001b[0massign_and_connect\u001b[0m\u001b[0;34m(\u001b[0m\u001b[0mworkflow\u001b[0m\u001b[0;34m,\u001b[0m \u001b[0mnumnodes\u001b[0m\u001b[0;34m)\u001b[0m\u001b[0;34m\u001b[0m\u001b[0;34m\u001b[0m\u001b[0m\n\u001b[0m\u001b[1;32m    102\u001b[0m     \u001b[0;31m# print 'Processes: %s' % processes\u001b[0m\u001b[0;34m\u001b[0m\u001b[0;34m\u001b[0m\u001b[0;34m\u001b[0m\u001b[0m\n\u001b[1;32m    103\u001b[0m     \u001b[0;31m# print inputmappings\u001b[0m\u001b[0;34m\u001b[0m\u001b[0;34m\u001b[0m\u001b[0;34m\u001b[0m\u001b[0m\n",
      "\u001b[0;32m~/project-dare/WP6_EPOS/processing_elements/MISFIT_RA/dispel4py/new/processor.py\u001b[0m in \u001b[0;36massign_and_connect\u001b[0;34m(workflow, size)\u001b[0m\n\u001b[1;32m    311\u001b[0m \u001b[0;34m\u001b[0m\u001b[0m\n\u001b[1;32m    312\u001b[0m \u001b[0;32mdef\u001b[0m \u001b[0massign_and_connect\u001b[0m\u001b[0;34m(\u001b[0m\u001b[0mworkflow\u001b[0m\u001b[0;34m,\u001b[0m \u001b[0msize\u001b[0m\u001b[0;34m)\u001b[0m\u001b[0;34m:\u001b[0m\u001b[0;34m\u001b[0m\u001b[0;34m\u001b[0m\u001b[0m\n\u001b[0;32m--> 313\u001b[0;31m     \u001b[0msuccess\u001b[0m\u001b[0;34m,\u001b[0m \u001b[0msources\u001b[0m\u001b[0;34m,\u001b[0m \u001b[0mprocesses\u001b[0m \u001b[0;34m=\u001b[0m \u001b[0m_assign_processes\u001b[0m\u001b[0;34m(\u001b[0m\u001b[0mworkflow\u001b[0m\u001b[0;34m,\u001b[0m \u001b[0msize\u001b[0m\u001b[0;34m)\u001b[0m\u001b[0;34m\u001b[0m\u001b[0;34m\u001b[0m\u001b[0m\n\u001b[0m\u001b[1;32m    314\u001b[0m     \u001b[0;32mif\u001b[0m \u001b[0msuccess\u001b[0m\u001b[0;34m:\u001b[0m\u001b[0;34m\u001b[0m\u001b[0;34m\u001b[0m\u001b[0m\n\u001b[1;32m    315\u001b[0m         \u001b[0minputmappings\u001b[0m\u001b[0;34m,\u001b[0m \u001b[0moutputmappings\u001b[0m \u001b[0;34m=\u001b[0m \u001b[0m_connect\u001b[0m\u001b[0;34m(\u001b[0m\u001b[0mworkflow\u001b[0m\u001b[0;34m,\u001b[0m \u001b[0mprocesses\u001b[0m\u001b[0;34m)\u001b[0m\u001b[0;34m\u001b[0m\u001b[0;34m\u001b[0m\u001b[0m\n",
      "\u001b[0;32m~/project-dare/WP6_EPOS/processing_elements/MISFIT_RA/dispel4py/new/processor.py\u001b[0m in \u001b[0;36m_assign_processes\u001b[0;34m(workflow, size)\u001b[0m\n\u001b[1;32m    238\u001b[0m         \u001b[0;32mfor\u001b[0m \u001b[0mnode\u001b[0m \u001b[0;32min\u001b[0m \u001b[0mgraph\u001b[0m\u001b[0;34m.\u001b[0m\u001b[0mnodes\u001b[0m\u001b[0;34m(\u001b[0m\u001b[0;34m)\u001b[0m\u001b[0;34m:\u001b[0m\u001b[0;34m\u001b[0m\u001b[0;34m\u001b[0m\u001b[0m\n\u001b[1;32m    239\u001b[0m             \u001b[0mpe\u001b[0m \u001b[0;34m=\u001b[0m \u001b[0mnode\u001b[0m\u001b[0;34m.\u001b[0m\u001b[0mgetContainedObject\u001b[0m\u001b[0;34m(\u001b[0m\u001b[0;34m)\u001b[0m\u001b[0;34m\u001b[0m\u001b[0;34m\u001b[0m\u001b[0m\n\u001b[0;32m--> 240\u001b[0;31m             prcs = 1 if pe.id in sources or (hasattr(pe, 'single') and pe.single==True) else _getNumProcesses(\n\u001b[0m\u001b[1;32m    241\u001b[0m                 size, numSources, pe.numprocesses, totalProcesses)\n\u001b[1;32m    242\u001b[0m             \u001b[0mprocesses\u001b[0m\u001b[0;34m[\u001b[0m\u001b[0mpe\u001b[0m\u001b[0;34m.\u001b[0m\u001b[0mid\u001b[0m\u001b[0;34m]\u001b[0m \u001b[0;34m=\u001b[0m \u001b[0mrange\u001b[0m\u001b[0;34m(\u001b[0m\u001b[0mnode_counter\u001b[0m\u001b[0;34m,\u001b[0m \u001b[0mnode_counter\u001b[0m \u001b[0;34m+\u001b[0m \u001b[0mprcs\u001b[0m\u001b[0;34m)\u001b[0m\u001b[0;34m\u001b[0m\u001b[0;34m\u001b[0m\u001b[0m\n",
      "\u001b[0;31mAttributeError\u001b[0m: 'WorkflowGraph' object has no attribute 'id'"
     ]
    }
   ],
   "source": [
    "from dispel4py.new import simple_process\n",
    "input_data = { 'data' : [ {'input': {'data_dir': './misfit_data/data', 'synt_dir': './misfit_data/synth', 'events': './misfit_data/events_simulation_CI_CI_test_0_1507128030823', 'event_id': 'smi:webservices.ingv.it/fdsnws/event/1/query?eventId=1744261', 'stations_dir': './misfit_data/stations', 'output_dir': './misfit_data/output', 'network': ['IV'], 'station': ['ARRO']}}]}\n",
    "simple_process.process(graph, input_data)\n",
    "print(\"Result is %s\" %result)"
   ]
  },
  {
   "cell_type": "code",
   "execution_count": 6,
   "metadata": {},
   "outputs": [
    {
     "name": "stdout",
     "output_type": "stream",
     "text": [
      "Inputs: {'data': [{'input': {'data_dir': './misfit_data/data', 'synt_dir': './misfit_data/synth', 'events': './misfit_data/events_simulation_CI_CI_test_0_1507128030823', 'event_id': 'smi:webservices.ingv.it/fdsnws/event/1/query?eventId=1744261', 'stations_dir': './misfit_data/stations', 'output_dir': './misfit_data/output', 'network': ['IV'], 'station': ['ARRO']}}]}\n"
     ]
    },
    {
     "ename": "AttributeError",
     "evalue": "'WorkflowGraph' object has no attribute 'id'",
     "output_type": "error",
     "traceback": [
      "\u001b[0;31m---------------------------------------------------------------------------\u001b[0m",
      "\u001b[0;31mAttributeError\u001b[0m                            Traceback (most recent call last)",
      "\u001b[0;32m<ipython-input-6-ffea47e18656>\u001b[0m in \u001b[0;36m<module>\u001b[0;34m\u001b[0m\n\u001b[1;32m      4\u001b[0m \u001b[0;32mwith\u001b[0m \u001b[0mopen\u001b[0m\u001b[0;34m(\u001b[0m\u001b[0mfile\u001b[0m\u001b[0;34m)\u001b[0m \u001b[0;32mas\u001b[0m \u001b[0minputfile\u001b[0m\u001b[0;34m:\u001b[0m\u001b[0;34m\u001b[0m\u001b[0;34m\u001b[0m\u001b[0m\n\u001b[1;32m      5\u001b[0m     \u001b[0minputs\u001b[0m \u001b[0;34m=\u001b[0m \u001b[0mjson\u001b[0m\u001b[0;34m.\u001b[0m\u001b[0mloads\u001b[0m\u001b[0;34m(\u001b[0m\u001b[0minputfile\u001b[0m\u001b[0;34m.\u001b[0m\u001b[0mread\u001b[0m\u001b[0;34m(\u001b[0m\u001b[0;34m)\u001b[0m\u001b[0;34m)\u001b[0m\u001b[0;34m\u001b[0m\u001b[0;34m\u001b[0m\u001b[0m\n\u001b[0;32m----> 6\u001b[0;31m \u001b[0msimple_process\u001b[0m\u001b[0;34m.\u001b[0m\u001b[0mprocess\u001b[0m\u001b[0;34m(\u001b[0m\u001b[0mgraph\u001b[0m\u001b[0;34m,\u001b[0m \u001b[0minputs\u001b[0m\u001b[0;34m)\u001b[0m\u001b[0;34m\u001b[0m\u001b[0;34m\u001b[0m\u001b[0m\n\u001b[0m\u001b[1;32m      7\u001b[0m \u001b[0mprint\u001b[0m\u001b[0;34m(\u001b[0m\u001b[0;34m\"Result is %s\"\u001b[0m \u001b[0;34m%\u001b[0m\u001b[0mresult\u001b[0m\u001b[0;34m)\u001b[0m\u001b[0;34m\u001b[0m\u001b[0;34m\u001b[0m\u001b[0m\n",
      "\u001b[0;32m~/project-dare/WP6_EPOS/processing_elements/MISFIT_RA/dispel4py/new/simple_process.py\u001b[0m in \u001b[0;36mprocess\u001b[0;34m(workflow, inputs, args, resultmappings)\u001b[0m\n\u001b[1;32m    144\u001b[0m     \u001b[0;32mexcept\u001b[0m\u001b[0;34m:\u001b[0m\u001b[0;34m\u001b[0m\u001b[0;34m\u001b[0m\u001b[0m\n\u001b[1;32m    145\u001b[0m         \u001b[0mprint\u001b[0m\u001b[0;34m(\u001b[0m\u001b[0;34m'Inputs: %s'\u001b[0m \u001b[0;34m%\u001b[0m \u001b[0;34m{\u001b[0m\u001b[0mpe\u001b[0m\u001b[0;34m:\u001b[0m \u001b[0mdata\u001b[0m \u001b[0;32mfor\u001b[0m \u001b[0mpe\u001b[0m\u001b[0;34m,\u001b[0m \u001b[0mdata\u001b[0m \u001b[0;32min\u001b[0m \u001b[0minputs\u001b[0m\u001b[0;34m.\u001b[0m\u001b[0mitems\u001b[0m\u001b[0;34m(\u001b[0m\u001b[0;34m)\u001b[0m\u001b[0;34m}\u001b[0m\u001b[0;34m)\u001b[0m\u001b[0;34m\u001b[0m\u001b[0;34m\u001b[0m\u001b[0m\n\u001b[0;32m--> 146\u001b[0;31m     \u001b[0mresults\u001b[0m \u001b[0;34m=\u001b[0m \u001b[0mprocess_and_return\u001b[0m\u001b[0;34m(\u001b[0m\u001b[0mworkflow\u001b[0m\u001b[0;34m,\u001b[0m \u001b[0minputs\u001b[0m\u001b[0;34m,\u001b[0m \u001b[0mresultmappings\u001b[0m\u001b[0;34m)\u001b[0m\u001b[0;34m\u001b[0m\u001b[0;34m\u001b[0m\u001b[0m\n\u001b[0m\u001b[1;32m    147\u001b[0m     \u001b[0mprint\u001b[0m\u001b[0;34m(\u001b[0m\u001b[0;34m'Outputs: %s'\u001b[0m \u001b[0;34m%\u001b[0m \u001b[0mresults\u001b[0m\u001b[0;34m)\u001b[0m\u001b[0;34m\u001b[0m\u001b[0;34m\u001b[0m\u001b[0m\n\u001b[1;32m    148\u001b[0m \u001b[0;34m\u001b[0m\u001b[0m\n",
      "\u001b[0;32m~/project-dare/WP6_EPOS/processing_elements/MISFIT_RA/dispel4py/new/simple_process.py\u001b[0m in \u001b[0;36mprocess_and_return\u001b[0;34m(workflow, inputs, resultmappings)\u001b[0m\n\u001b[1;32m     99\u001b[0m         \u001b[0mnode\u001b[0m\u001b[0;34m.\u001b[0m\u001b[0mgetContainedObject\u001b[0m\u001b[0;34m(\u001b[0m\u001b[0;34m)\u001b[0m\u001b[0;34m.\u001b[0m\u001b[0mnumprocesses\u001b[0m \u001b[0;34m=\u001b[0m \u001b[0;36m1\u001b[0m\u001b[0;34m\u001b[0m\u001b[0;34m\u001b[0m\u001b[0m\n\u001b[1;32m    100\u001b[0m     \u001b[0mprocesses\u001b[0m\u001b[0;34m,\u001b[0m \u001b[0minputmappings\u001b[0m\u001b[0;34m,\u001b[0m \u001b[0moutputmappings\u001b[0m \u001b[0;34m=\u001b[0m\u001b[0;31m \u001b[0m\u001b[0;31m\\\u001b[0m\u001b[0;34m\u001b[0m\u001b[0;34m\u001b[0m\u001b[0m\n\u001b[0;32m--> 101\u001b[0;31m         \u001b[0mprocessor\u001b[0m\u001b[0;34m.\u001b[0m\u001b[0massign_and_connect\u001b[0m\u001b[0;34m(\u001b[0m\u001b[0mworkflow\u001b[0m\u001b[0;34m,\u001b[0m \u001b[0mnumnodes\u001b[0m\u001b[0;34m)\u001b[0m\u001b[0;34m\u001b[0m\u001b[0;34m\u001b[0m\u001b[0m\n\u001b[0m\u001b[1;32m    102\u001b[0m     \u001b[0;31m# print 'Processes: %s' % processes\u001b[0m\u001b[0;34m\u001b[0m\u001b[0;34m\u001b[0m\u001b[0;34m\u001b[0m\u001b[0m\n\u001b[1;32m    103\u001b[0m     \u001b[0;31m# print inputmappings\u001b[0m\u001b[0;34m\u001b[0m\u001b[0;34m\u001b[0m\u001b[0;34m\u001b[0m\u001b[0m\n",
      "\u001b[0;32m~/project-dare/WP6_EPOS/processing_elements/MISFIT_RA/dispel4py/new/processor.py\u001b[0m in \u001b[0;36massign_and_connect\u001b[0;34m(workflow, size)\u001b[0m\n\u001b[1;32m    311\u001b[0m \u001b[0;34m\u001b[0m\u001b[0m\n\u001b[1;32m    312\u001b[0m \u001b[0;32mdef\u001b[0m \u001b[0massign_and_connect\u001b[0m\u001b[0;34m(\u001b[0m\u001b[0mworkflow\u001b[0m\u001b[0;34m,\u001b[0m \u001b[0msize\u001b[0m\u001b[0;34m)\u001b[0m\u001b[0;34m:\u001b[0m\u001b[0;34m\u001b[0m\u001b[0;34m\u001b[0m\u001b[0m\n\u001b[0;32m--> 313\u001b[0;31m     \u001b[0msuccess\u001b[0m\u001b[0;34m,\u001b[0m \u001b[0msources\u001b[0m\u001b[0;34m,\u001b[0m \u001b[0mprocesses\u001b[0m \u001b[0;34m=\u001b[0m \u001b[0m_assign_processes\u001b[0m\u001b[0;34m(\u001b[0m\u001b[0mworkflow\u001b[0m\u001b[0;34m,\u001b[0m \u001b[0msize\u001b[0m\u001b[0;34m)\u001b[0m\u001b[0;34m\u001b[0m\u001b[0;34m\u001b[0m\u001b[0m\n\u001b[0m\u001b[1;32m    314\u001b[0m     \u001b[0;32mif\u001b[0m \u001b[0msuccess\u001b[0m\u001b[0;34m:\u001b[0m\u001b[0;34m\u001b[0m\u001b[0;34m\u001b[0m\u001b[0m\n\u001b[1;32m    315\u001b[0m         \u001b[0minputmappings\u001b[0m\u001b[0;34m,\u001b[0m \u001b[0moutputmappings\u001b[0m \u001b[0;34m=\u001b[0m \u001b[0m_connect\u001b[0m\u001b[0;34m(\u001b[0m\u001b[0mworkflow\u001b[0m\u001b[0;34m,\u001b[0m \u001b[0mprocesses\u001b[0m\u001b[0;34m)\u001b[0m\u001b[0;34m\u001b[0m\u001b[0;34m\u001b[0m\u001b[0m\n",
      "\u001b[0;32m~/project-dare/WP6_EPOS/processing_elements/MISFIT_RA/dispel4py/new/processor.py\u001b[0m in \u001b[0;36m_assign_processes\u001b[0;34m(workflow, size)\u001b[0m\n\u001b[1;32m    238\u001b[0m         \u001b[0;32mfor\u001b[0m \u001b[0mnode\u001b[0m \u001b[0;32min\u001b[0m \u001b[0mgraph\u001b[0m\u001b[0;34m.\u001b[0m\u001b[0mnodes\u001b[0m\u001b[0;34m(\u001b[0m\u001b[0;34m)\u001b[0m\u001b[0;34m:\u001b[0m\u001b[0;34m\u001b[0m\u001b[0;34m\u001b[0m\u001b[0m\n\u001b[1;32m    239\u001b[0m             \u001b[0mpe\u001b[0m \u001b[0;34m=\u001b[0m \u001b[0mnode\u001b[0m\u001b[0;34m.\u001b[0m\u001b[0mgetContainedObject\u001b[0m\u001b[0;34m(\u001b[0m\u001b[0;34m)\u001b[0m\u001b[0;34m\u001b[0m\u001b[0;34m\u001b[0m\u001b[0m\n\u001b[0;32m--> 240\u001b[0;31m             prcs = 1 if pe.id in sources or (hasattr(pe, 'single') and pe.single==True) else _getNumProcesses(\n\u001b[0m\u001b[1;32m    241\u001b[0m                 size, numSources, pe.numprocesses, totalProcesses)\n\u001b[1;32m    242\u001b[0m             \u001b[0mprocesses\u001b[0m\u001b[0;34m[\u001b[0m\u001b[0mpe\u001b[0m\u001b[0;34m.\u001b[0m\u001b[0mid\u001b[0m\u001b[0;34m]\u001b[0m \u001b[0;34m=\u001b[0m \u001b[0mrange\u001b[0m\u001b[0;34m(\u001b[0m\u001b[0mnode_counter\u001b[0m\u001b[0;34m,\u001b[0m \u001b[0mnode_counter\u001b[0m \u001b[0;34m+\u001b[0m \u001b[0mprcs\u001b[0m\u001b[0;34m)\u001b[0m\u001b[0;34m\u001b[0m\u001b[0;34m\u001b[0m\u001b[0m\n",
      "\u001b[0;31mAttributeError\u001b[0m: 'WorkflowGraph' object has no attribute 'id'"
     ]
    }
   ],
   "source": [
    "\n",
    "from dispel4py.new import simple_process\n",
    "file = './misfit_input.jsn'\n",
    "with open(file) as inputfile:\n",
    "    inputs = json.loads(inputfile.read())\n",
    "simple_process.process(graph, inputs)\n",
    "print(\"Result is %s\" %result)\n"
   ]
  },
  {
   "cell_type": "code",
   "execution_count": null,
   "metadata": {},
   "outputs": [],
   "source": []
  }
 ],
 "metadata": {
  "kernelspec": {
   "display_name": "Python 3",
   "language": "python",
   "name": "python3"
  },
  "language_info": {
   "codemirror_mode": {
    "name": "ipython",
    "version": 3
   },
   "file_extension": ".py",
   "mimetype": "text/x-python",
   "name": "python",
   "nbconvert_exporter": "python",
   "pygments_lexer": "ipython3",
   "version": "3.7.2"
  }
 },
 "nbformat": 4,
 "nbformat_minor": 2
}
