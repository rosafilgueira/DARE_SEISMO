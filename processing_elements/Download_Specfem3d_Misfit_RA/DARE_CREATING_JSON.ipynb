{
 "cells": [
  {
   "cell_type": "code",
   "execution_count": 242,
   "metadata": {
    "ExecuteTime": {
     "end_time": "2019-05-10T07:20:40.235062Z",
     "start_time": "2019-05-10T07:20:40.162877Z"
    }
   },
   "outputs": [],
   "source": [
    "import zipfile\n",
    "import requests,json\n",
    "import io,StringIO\n",
    "import sys,os\n",
    "import re\n",
    "import numpy"
   ]
  },
  {
   "cell_type": "markdown",
   "metadata": {},
   "source": [
    "## FUNCTIONS"
   ]
  },
  {
   "cell_type": "code",
   "execution_count": 226,
   "metadata": {
    "ExecuteTime": {
     "end_time": "2019-05-09T14:50:47.432652Z",
     "start_time": "2019-05-09T14:50:47.396294Z"
    }
   },
   "outputs": [],
   "source": [
    "def get_file_content(file_url=None,directory=None,\n",
    "                     fname='Par_file',\n",
    "                     json_format=False,zip_format=False):\n",
    "    if zip_format:\n",
    "        try:\n",
    "            try:\n",
    "                response = requests.get(file_url)\n",
    "                zfiles=zipfile.ZipFile(io.BytesIO(response.content))\n",
    "            except:\n",
    "                zfiles=zipfile.ZipFile(file_url)\n",
    "            listfile = zfiles.namelist()\n",
    "        except:\n",
    "             print('ERROR: Error reading zip file %s' % file_url)\n",
    "        \n",
    "        try:\n",
    "            parfound=False\n",
    "            for f in listfile:\n",
    "                if fname in f:\n",
    "                    ifile = zfiles.read(f)\n",
    "                    parfound=True\n",
    "                    break\n",
    "        except KeyError:\n",
    "            parfound=False\n",
    "        \n",
    "        if not parfound: \n",
    "            print('ERROR: Did not find %s in zip file' % fname)\n",
    "            return None\n",
    "\n",
    "    elif directory:\n",
    "        try:\n",
    "            f.open(os.path.join(directory,fname),'r')\n",
    "            ifile=f.read()\n",
    "        except:\n",
    "            print('ERROR: Error reading %s file in %s' % (fname,directory))\n",
    "    elif json_format:\n",
    "        try:\n",
    "            try:\n",
    "                response = requests.get(file_url)\n",
    "                ifile=response.json()\n",
    "            except:\n",
    "                ifile=json.loads(file_url)\n",
    "        except:\n",
    "             print('ERROR: Error reading json file %s' % file_url)\n",
    "    return ifile"
   ]
  },
  {
   "cell_type": "code",
   "execution_count": 138,
   "metadata": {
    "ExecuteTime": {
     "end_time": "2019-05-09T12:53:03.878032Z",
     "start_time": "2019-05-09T12:53:03.865820Z"
    }
   },
   "outputs": [],
   "source": [
    "def get_parameter(parameter=None,string=None,reg='\\s+=([\\s\\d\\.]+)'):\n",
    "    if parameter is None: \n",
    "        print('Parameter missed, ex: parameter=\"NPROC\"')\n",
    "        return None\n",
    "    elif string is None:\n",
    "        print('file string missing')\n",
    "    txt=parameter+reg\n",
    "    p=re.findall(txt, string,re.MULTILINE)\n",
    "    if len(p) > 0:\n",
    "        return p[0]\n",
    "    else:\n",
    "        print('no parameter found')\n",
    "        return None"
   ]
  },
  {
   "cell_type": "code",
   "execution_count": 163,
   "metadata": {
    "ExecuteTime": {
     "end_time": "2019-05-09T13:20:16.257778Z",
     "start_time": "2019-05-09T13:20:16.247144Z"
    }
   },
   "outputs": [],
   "source": [
    "def create_event_time(event_time):\n",
    "    regex = r\"PDE\\s[\\d\\.\\s]+\"\n",
    "    event_time=re.findall(regex, cmtsolution,re.MULTILINE)[0].split()[1:7]\n",
    "    return '-'.join(x.zfill(2) for x in event_time[:3]) +\\\n",
    "            'T' +\\\n",
    "            ':'.join(x.zfill(2) for x in event_time[3:-1]) +':'+\\\n",
    "            '.'.join(x.zfill(2) for x in event_time[-1].split('.'))"
   ]
  },
  {
   "cell_type": "code",
   "execution_count": 198,
   "metadata": {
    "ExecuteTime": {
     "end_time": "2019-05-09T13:45:28.775023Z",
     "start_time": "2019-05-09T13:45:28.764300Z"
    }
   },
   "outputs": [],
   "source": [
    "def get_coordlimits(mesh):\n",
    "    d = numpy.fromstring(mesh, sep=' ')\n",
    "    data = d[1:].reshape(int(d[0]), 4)\n",
    "    return data[:, 1].min(), data[:, 1].max(),\\\n",
    "        data[:, 2].min(), data[:, 2].max(),\\\n",
    "        data[:, 3].min(), data[:, 3].max()"
   ]
  },
  {
   "cell_type": "code",
   "execution_count": null,
   "metadata": {},
   "outputs": [],
   "source": [
    "def get_mesh_geolimits(lim,epsg):\n",
    "    import pyproj\n",
    "    wgs84=pyproj.Proj(\"+init=EPSG:4326\") # LatLon with WGS84 datum used by GPS units and Google Earth\n",
    "    meshcoordinate=pyproj.Proj(\"+init=\"+epsg) \n",
    "    pyproj.transform(meshcoordinate, wgs84, lim[0], lim[2])\n",
    "    longitude_min=max(pyproj.transform(meshcoordinate, wgs84, lim[0], lim[2])[0],\n",
    "                  pyproj.transform(meshcoordinate, wgs84, lim[0], lim[3])[0])\n",
    "    longitude_max=min(pyproj.transform(meshcoordinate, wgs84, lim[1], lim[2])[0],\n",
    "                  pyproj.transform(meshcoordinate, wgs84, lim[1], lim[3])[0])\n",
    "    latitude_min=max(pyproj.transform(meshcoordinate, wgs84, lim[0], lim[2])[1],\n",
    "                  pyproj.transform(meshcoordinate, wgs84, lim[1], lim[2])[1])\n",
    "    latitude_max=min(pyproj.transform(meshcoordinate, wgs84, lim[0], lim[3])[1],\n",
    "                  pyproj.transform(meshcoordinate, wgs84, lim[1], lim[3])[1])\n",
    "    return longitude_min,longitude_max,latitude_min,latitude_max"
   ]
  },
  {
   "cell_type": "markdown",
   "metadata": {},
   "source": [
    "## GET CONTENT"
   ]
  },
  {
   "cell_type": "code",
   "execution_count": 84,
   "metadata": {
    "ExecuteTime": {
     "end_time": "2019-05-09T09:17:22.543736Z",
     "start_time": "2019-05-09T09:16:55.960840Z"
    }
   },
   "outputs": [],
   "source": [
    "data_url='https://gitlab.com/project-dare/dare-api/raw/master/containers/specfem3d/data.zip' "
   ]
  },
  {
   "cell_type": "code",
   "execution_count": 228,
   "metadata": {
    "ExecuteTime": {
     "end_time": "2019-05-09T14:51:51.519248Z",
     "start_time": "2019-05-09T14:51:24.512370Z"
    }
   },
   "outputs": [],
   "source": [
    "cmtsolution=get_file_content(file_url=data_url,fname='CMTSOLUTION',zip_format=True)"
   ]
  },
  {
   "cell_type": "code",
   "execution_count": 165,
   "metadata": {
    "ExecuteTime": {
     "end_time": "2019-05-09T13:21:43.480171Z",
     "start_time": "2019-05-09T13:21:16.659275Z"
    }
   },
   "outputs": [],
   "source": [
    "parfile=get_file_content(file_url=data_url,zip_format=True)"
   ]
  },
  {
   "cell_type": "code",
   "execution_count": 222,
   "metadata": {
    "ExecuteTime": {
     "end_time": "2019-05-09T14:12:31.532832Z",
     "start_time": "2019-05-09T14:12:30.952090Z"
    }
   },
   "outputs": [],
   "source": [
    "infopar=get_file_content(file_url='https://gitlab.com/project-dare/WP6_EPOS/raw/master/specfem3d/specfem3d_input/DATA/mesh_Abruzzo/Info.json',\n",
    "                directory=None,json_format=True)\n",
    "\n"
   ]
  },
  {
   "cell_type": "code",
   "execution_count": 229,
   "metadata": {
    "ExecuteTime": {
     "end_time": "2019-05-09T14:53:02.117585Z",
     "start_time": "2019-05-09T14:52:35.308554Z"
    }
   },
   "outputs": [],
   "source": [
    "meshfile=get_file_content(file_url=data_url,directory=None,fname='nodes_coords',zip_format=True)"
   ]
  },
  {
   "cell_type": "markdown",
   "metadata": {},
   "source": [
    "## GET PARAMETERS"
   ]
  },
  {
   "cell_type": "code",
   "execution_count": 237,
   "metadata": {
    "ExecuteTime": {
     "end_time": "2019-05-09T15:26:39.910678Z",
     "start_time": "2019-05-09T15:26:39.898122Z"
    }
   },
   "outputs": [
    {
     "name": "stdout",
     "output_type": "stream",
     "text": [
      "no parameter found\n",
      "(24, 0.005, 12000, 1.0)\n"
     ]
    }
   ],
   "source": [
    "NPROC=int(get_parameter('NPROC',parfile))\n",
    "dt=float(get_parameter('DT',parfile))\n",
    "nstep=int(get_parameter('NSTEP',parfile))\n",
    "try:\n",
    "    RECORD_LENGTH_IN_MINUTES=float(get_parameter('RECORD_LENGTH_IN_MINUTES',parfile))\n",
    "except:\n",
    "    RECORD_LENGTH_IN_MINUTES=dt*nstep/60.\n",
    "print(nproc,dt,nstep,RECORD_LENGTH_IN_MINUTES)"
   ]
  },
  {
   "cell_type": "code",
   "execution_count": 238,
   "metadata": {
    "ExecuteTime": {
     "end_time": "2019-05-09T15:27:01.458785Z",
     "start_time": "2019-05-09T15:27:01.451333Z"
    }
   },
   "outputs": [
    {
     "name": "stdout",
     "output_type": "stream",
     "text": [
      "2013-02-16T21:16:09.29\n"
     ]
    }
   ],
   "source": [
    "ETIME=create_event_time(event_time)\n",
    "print ETIME"
   ]
  },
  {
   "cell_type": "code",
   "execution_count": 208,
   "metadata": {
    "ExecuteTime": {
     "end_time": "2019-05-09T14:00:17.841667Z",
     "start_time": "2019-05-09T14:00:17.288513Z"
    }
   },
   "outputs": [],
   "source": [
    "lim=get_coordlimits(meshfile)"
   ]
  },
  {
   "cell_type": "code",
   "execution_count": 223,
   "metadata": {
    "ExecuteTime": {
     "end_time": "2019-05-09T14:13:18.393616Z",
     "start_time": "2019-05-09T14:13:18.386516Z"
    }
   },
   "outputs": [],
   "source": [
    "epsg=infopar['Coordinatesystem']['EPSG']\n",
    "longitude_min,longitude_max,latitude_min,latitude_max=get_mesh_geolimits(lim,epsg)\n",
    "xmin,xmax,ymin,ymax,zmin,zmax=lim"
   ]
  },
  {
   "cell_type": "markdown",
   "metadata": {
    "ExecuteTime": {
     "end_time": "2019-05-09T15:21:01.701409Z",
     "start_time": "2019-05-09T15:21:01.694022Z"
    }
   },
   "source": [
    "## CREATE JSON"
   ]
  },
  {
   "cell_type": "code",
   "execution_count": 239,
   "metadata": {
    "ExecuteTime": {
     "end_time": "2019-05-09T15:29:05.776771Z",
     "start_time": "2019-05-09T15:29:05.747305Z"
    }
   },
   "outputs": [],
   "source": [
    "d={\n",
    "\"simulationRunId\": None,\n",
    "\"runId\": None,\n",
    "\"nproc\": NPROC,\n",
    "\"downloadPE\": [\n",
    "{\n",
    "\"input\": {\n",
    "\"minimum_interstation_distance_in_m\": 100,\n",
    "\"channel_priorities\": [\n",
    "\"BH[E,N,Z]\",\n",
    "\"EH[E,N,Z]\"\n",
    "],\n",
    "\"location_priorities\": [\n",
    "\"\",\n",
    "\"00\",\n",
    "\"10\"\n",
    "],\n",
    "\"mseed_path\": \"./data\",\n",
    "\"stationxml_path\": \"./stations\",\n",
    "\"RECORD_LENGTH_IN_MINUTES\": RECORD_LENGTH_IN_MINUTES,\n",
    "\"ORIGIN_TIME\": ETIME,\n",
    "\"minlatitude\": latitude_min,\n",
    "\"maxlatitude\": latitude_max,\n",
    "\"minlongitude\": longitude_min,\n",
    "\"maxlongitude\": longitude_min\n",
    "}\n",
    "}\n",
    "]\n",
    "}\n"
   ]
  },
  {
   "cell_type": "code",
   "execution_count": 240,
   "metadata": {
    "ExecuteTime": {
     "end_time": "2019-05-09T15:29:12.804797Z",
     "start_time": "2019-05-09T15:29:12.795739Z"
    }
   },
   "outputs": [],
   "source": [
    "with open(\"data_file.json\", \"w\") as write_file:\n",
    "    json.dump(d, write_file)"
   ]
  },
  {
   "cell_type": "code",
   "execution_count": 241,
   "metadata": {
    "ExecuteTime": {
     "end_time": "2019-05-09T15:29:20.187618Z",
     "start_time": "2019-05-09T15:29:20.027658Z"
    }
   },
   "outputs": [
    {
     "name": "stdout",
     "output_type": "stream",
     "text": [
      "{\"simulationRunId\": null, \"downloadPE\": [{\"input\": {\"channel_priorities\": [\"BH[E,N,Z]\", \"EH[E,N,Z]\"], \"minlongitude\": 12.041644551237324, \"minimum_interstation_distance_in_m\": 100, \"minlatitude\": 41.10007459633125, \"location_priorities\": [\"\", \"00\", \"10\"], \"stationxml_path\": \"./stations\", \"maxlongitude\": 12.041644551237324, \"RECORD_LENGTH_IN_MINUTES\": 1.0, \"maxlatitude\": 42.897779709480716, \"mseed_path\": \"./data\", \"ORIGIN_TIME\": \"2013-02-16T21:16:09.29\"}}], \"runId\": null, \"nproc\": 24}"
     ]
    }
   ],
   "source": [
    "!cat data_file.json"
   ]
  },
  {
   "cell_type": "code",
   "execution_count": null,
   "metadata": {},
   "outputs": [],
   "source": []
  }
 ],
 "metadata": {
  "kernelspec": {
   "display_name": "Python 2",
   "language": "python",
   "name": "python2"
  },
  "language_info": {
   "codemirror_mode": {
    "name": "ipython",
    "version": 2
   },
   "file_extension": ".py",
   "mimetype": "text/x-python",
   "name": "python",
   "nbconvert_exporter": "python",
   "pygments_lexer": "ipython2",
   "version": "2.7.15"
  },
  "latex_envs": {
   "LaTeX_envs_menu_present": true,
   "autocomplete": true,
   "bibliofile": "biblio.bib",
   "cite_by": "apalike",
   "current_citInitial": 1,
   "eqLabelWithNumbers": true,
   "eqNumInitial": 1,
   "hotkeys": {
    "equation": "Ctrl-E",
    "itemize": "Ctrl-I"
   },
   "labels_anchors": false,
   "latex_user_defs": false,
   "report_style_numbering": false,
   "user_envs_cfg": false
  },
  "toc": {
   "nav_menu": {},
   "number_sections": true,
   "sideBar": true,
   "skip_h1_title": false,
   "title_cell": "Table of Contents",
   "title_sidebar": "Contents",
   "toc_cell": false,
   "toc_position": {},
   "toc_section_display": true,
   "toc_window_display": true
  },
  "varInspector": {
   "cols": {
    "lenName": 16,
    "lenType": 16,
    "lenVar": 40
   },
   "kernels_config": {
    "python": {
     "delete_cmd_postfix": "",
     "delete_cmd_prefix": "del ",
     "library": "var_list.py",
     "varRefreshCmd": "print(var_dic_list())"
    },
    "r": {
     "delete_cmd_postfix": ") ",
     "delete_cmd_prefix": "rm(",
     "library": "var_list.r",
     "varRefreshCmd": "cat(var_dic_list()) "
    }
   },
   "types_to_exclude": [
    "module",
    "function",
    "builtin_function_or_method",
    "instance",
    "_Feature"
   ],
   "window_display": false
  }
 },
 "nbformat": 4,
 "nbformat_minor": 2
}
