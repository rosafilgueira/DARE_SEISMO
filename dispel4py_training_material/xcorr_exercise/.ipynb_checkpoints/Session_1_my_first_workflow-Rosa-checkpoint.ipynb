{
 "cells": [
  {
   "cell_type": "markdown",
   "metadata": {},
   "source": [
    "<h1>Introduction to Dispel4Py</h1>\n",
    "<p>\n",
    "In this session you're going to write your first dispel4py workflow.\n",
    "Before you start writing your own processing elements let's have a look at how a graph is created and how PEs are connected.\n",
    "We have prepared two PEs that you can connect to form a simple graph.\n",
    "</p>\n",
    "<p>\n",
    "Have a look at the PE implementations below:\n",
    "The 'stream_porducer' is a function that creates an obspy stream from an input file. Later we will have to use SimpleFunctionPE() for converting that 'stream_producer' function to a PE.\n",
    "The 'ReadStats' is a PE which prints out the stats of the first trace in the stream.\n",
    "Finally, the third and fourth PEs are two examples that do the same as the 'stream_producer' fuction. \n",
    "</p>"
   ]
  },
  {
   "cell_type": "code",
   "execution_count": null,
   "metadata": {
    "collapsed": false
   },
   "outputs": [],
   "source": [
    "from obspy.core import read"
   ]
  },
  {
   "cell_type": "code",
   "execution_count": null,
   "metadata": {
    "collapsed": false
   },
   "outputs": [],
   "source": [
    "from dispel4py.base import SimpleFunctionPE, IterativePE, create_iterative_chain\n",
    "\n",
    "def stream_producer(data):\n",
    "    '''\n",
    "    This function reads a file that contains seismological traces and returns it as an obspy stream.\n",
    "    \n",
    "    For using this function as a PE we need to use 'SimpleFunctionPE' before defining the graph:\n",
    "    streamProducer = SimpleFunctionPE(stream_producer)\n",
    "    '''\n",
    "    filename = data\n",
    "    st = read(filename)\n",
    "    return st\n",
    "\n",
    "class ReadStats(IterativePE):\n",
    "    '''\n",
    "    This PE reads the stats of the first trace and prints them out to the log.\n",
    "    '''\n",
    "    def __init__(self):\n",
    "        IterativePE.__init__(self)\n",
    "    def _process(self, data):\n",
    "        st = data\n",
    "        # print out the stats of the stream\n",
    "        self.log(st[0].stats)\n",
    "        return st"
   ]
  },
  {
   "cell_type": "markdown",
   "metadata": {},
   "source": [
    "In the following we create two more PEs whose aims are the same as 'stream_producer' function. This means that both PEs read a file with seismological traces and return an obspy stream. However, the 'StreamAndStatsProducer' PE not only returns the obspy stream, it also returns the metadata. "
   ]
  },
  {
   "cell_type": "code",
   "execution_count": null,
   "metadata": {
    "collapsed": false
   },
   "outputs": [],
   "source": [
    "class StreamProducer(IterativePE):\n",
    "    '''\n",
    "    This PE also reads a file that contains seismological traces \n",
    "    and returns it as an obspy stream. \n",
    "    \n",
    "    It is similar to the function 'stream_producer'.\n",
    "    We could use this PE directly, without calling SimpleFunctionPE. \n",
    "    '''\n",
    "    def __init__(self):\n",
    "        IterativePE.__init__(self)\n",
    "    def _process(self, data):\n",
    "        # this PE consumes one input\n",
    "        self.log(data)\n",
    "        filename = data\n",
    "        st = read(filename)\n",
    "        return st"
   ]
  },
  {
   "cell_type": "code",
   "execution_count": null,
   "metadata": {
    "collapsed": false
   },
   "outputs": [],
   "source": [
    "from dispel4py.core import GenericPE\n",
    "class StreamAndStatsProducer(GenericPE):\n",
    "    '''\n",
    "    This PE also reads a file that contains seismological traces \n",
    "    and returns two outputs: obspy stream and metadata. \n",
    "    \n",
    "    It is similar to the function 'stream_producer' and 'StreamProducer' PE.\n",
    "    We could use this PE directly, without calling SimpleFunctionPE. \n",
    "    '''\n",
    "    def __init__(self):\n",
    "        GenericPE.__init__(self)\n",
    "        self._add_input('input')\n",
    "        self._add_output('output')\n",
    "        self._add_output('output_stats')\n",
    "    def process(self, inputs):\n",
    "        data = inputs['input']\n",
    "        # this PE consumes data in the format [url] - a list with one element\n",
    "        filename = data\n",
    "        st = read(filename)\n",
    "        # This PE returns two outputs: the output stream and the trace stadistics (metadata).\n",
    "        return {'output': st, 'output_stats': st[0].stats}"
   ]
  },
  {
   "cell_type": "markdown",
   "metadata": {},
   "source": [
    "This function prints the name of the station from the trace metadata. "
   ]
  },
  {
   "cell_type": "code",
   "execution_count": null,
   "metadata": {
    "collapsed": false
   },
   "outputs": [],
   "source": [
    "def name_station(stats):\n",
    "    station_name = stats['station']\n",
    "    print('Station: ' + station_name)\n",
    "    return stats"
   ]
  },
  {
   "cell_type": "markdown",
   "metadata": {},
   "source": [
    "<h2>Exercise 1</h2>\n",
    "<p>\n",
    "Create a graph which connects the streamProducer to the ReadStats PE and to a SimpleFunctionPE with function name_station.\n",
    "</p>"
   ]
  },
  {
   "cell_type": "code",
   "execution_count": null,
   "metadata": {
    "collapsed": false
   },
   "outputs": [],
   "source": [
    "from dispel4py.workflow_graph import WorkflowGraph\n",
    "'''\n",
    "Using the stream_producer function:\n",
    "'''\n",
    "nameStation = SimpleFunctionPE(name_station)\n",
    "streamProducer = StreamAndStatsProducer()\n",
    "streamProducer.name=\"streamProducer\"\n",
    "'''\n",
    "streamProducer = SimpleFunctionPE(stream_producer)\n",
    "streamProducer = StreamProducer()\n",
    "'''\n",
    "readStats = ReadStats()"
   ]
  },
  {
   "cell_type": "code",
   "execution_count": null,
   "metadata": {
    "collapsed": false
   },
   "outputs": [],
   "source": [
    "graph = WorkflowGraph()\n",
    "#graph.connect( ... )"
   ]
  },
  {
   "cell_type": "markdown",
   "metadata": {},
   "source": [
    "**Optional:** If the graph visualisation software *graphviz* (http://www.graphviz.org/) is installed on your machine you can now visualise the graph - or skip this command if graphviz is not installed:"
   ]
  },
  {
   "cell_type": "code",
   "execution_count": null,
   "metadata": {
    "collapsed": false
   },
   "outputs": [],
   "source": [
    "from dispel4py.visualisation import display\n",
    "#display(graph)"
   ]
  },
  {
   "cell_type": "markdown",
   "metadata": {},
   "source": [
    "<h2>Exercise 2</h2>\n",
    "<p>Connect the ReadStats PE to the detrend PE. Note: You have to use SimpleFunctionPE for converting 'detrend' function to a PE </p>"
   ]
  },
  {
   "cell_type": "code",
   "execution_count": null,
   "metadata": {
    "collapsed": false
   },
   "outputs": [],
   "source": [
    "def detrend(st):\n",
    "    st.detrend('simple')\n",
    "    return st"
   ]
  },
  {
   "cell_type": "markdown",
   "metadata": {},
   "source": [
    "<h2>Exercise 3</h2> \n",
    "<p>\n",
    "Execute the graph using <tt>simple_process</tt> which is the sequential mapping of dispel4py.\n",
    "Because the graph reads a link of a files as the inital input data, we need to declare first and then give it to the graph. \n",
    "</p>\n"
   ]
  },
  {
   "cell_type": "code",
   "execution_count": null,
   "metadata": {
    "collapsed": false
   },
   "outputs": [],
   "source": [
    "from dispel4py.new.simple_process import process as simple_process\n",
    "link = 'http://escience8.inf.ed.ac.uk:8080/laquila/20100501-20120930_fseed/TERO/20100101.fseed'\n",
    "input_data = { streamProducer : [ {'input' : link } ] }\n",
    "simple_process( graph, input_data )"
   ]
  },
  {
   "cell_type": "markdown",
   "metadata": {},
   "source": [
    "This is the command for executing this workflow from a terminal. Note that \"!\" runs a shell command."
   ]
  },
  {
   "cell_type": "code",
   "execution_count": null,
   "metadata": {
    "collapsed": false
   },
   "outputs": [],
   "source": [
    "!dispel4py multi xcorr_scripts/\\Solution_Session_1.py -n 5 -d \"{ \\\"streamProducer\\\" : [ { \\\"input\\\" : \\\"http://escience8.inf.ed.ac.uk:8080/laquila/20100501-20120930_fseed/TERO/20100101.fseed\\\" } ] }\""
   ]
  },
  {
   "cell_type": "markdown",
   "metadata": {},
   "source": [
    "<h3>Note:</h3> \n",
    "<p>\n",
    "If we would like to execute this graph in a shared or distributed memory machine we could use another mappings. First, you should copy the above lines (except the last 4 lines, beacuase they are needed only for using the sequential mapping) into a single script (e.g my_worklow.py). And then, execute the below lines in your command line: \n",
    "<ul>\n",
    "    <li >Multiprocessing mapping for shared memory machine (several cores in the same cpu):<br/>\n",
    "       <tt> dispel4py multi my_workflow -n 4\\<br/>\n",
    "        -d \"{ \\\"streamProducer\\\" : [ { \\\"input\\\" : \\\"http://escience8.inf.ed.ac.uk:8080/laquila/20100501-20120930_fseed/TERO/20100101.fseed\\\" } ] }\" </tt> </li>\n",
    "    <li >MPI mapping for distributed memory machine (several cores in several cpus):<br/>\n",
    "        <tt> mpiexec -n 4 dispel4py mpi my_workflow \\<br/>\n",
    "        -d \"{ \\\"streamProducer\\\" : [ { \\\"input\\\" : \\\"http://escience8.inf.ed.ac.uk:8080/laquila/20100501-20120930_fseed/TERO/20100101.fseed\\\" } ] }\" "
   ]
  },
  {
   "cell_type": "markdown",
   "metadata": {},
   "source": [
    "<h2>Exercise 4</h2> \n",
    "<p>\n",
    "Create a PE (recommended: a function and a SimpleFunctionPE) called 'samplingratePE' that reads the sampling rate from the stream stats and connect it to the graph.\n",
    "</p>"
   ]
  },
  {
   "cell_type": "code",
   "execution_count": null,
   "metadata": {
    "collapsed": false
   },
   "outputs": [],
   "source": [
    "def read_samplingrate(data):\n",
    "    '''\n",
    "    Write your code here.\n",
    "    '''  \n",
    "\n",
    "    \n",
    "samplingratePE = SimpleFunctionPE(read_samplingrate)\n",
    "samplingratePE.name = 'SamplingRate'\n",
    "\n",
    "'''\n",
    "Connect the 'samplingratePE' to the 'preprocess_trace' composite PE\n",
    "'''  "
   ]
  },
  {
   "cell_type": "markdown",
   "metadata": {},
   "source": [
    "**Optional:** Visualise the graph:"
   ]
  },
  {
   "cell_type": "code",
   "execution_count": null,
   "metadata": {
    "collapsed": false
   },
   "outputs": [],
   "source": [
    "display(graph)"
   ]
  },
  {
   "cell_type": "markdown",
   "metadata": {},
   "source": [
    "Now execute the graph:"
   ]
  },
  {
   "cell_type": "code",
   "execution_count": null,
   "metadata": {
    "collapsed": false
   },
   "outputs": [],
   "source": [
    "input_data = { streamProducer : [ {'input' : link }] }\n",
    "simple_process(graph, input_data)"
   ]
  }
 ],
 "metadata": {
  "kernelspec": {
   "display_name": "Python 3",
   "language": "python",
   "name": "python3"
  },
  "language_info": {
   "codemirror_mode": {
    "name": "ipython",
    "version": 3
   },
   "file_extension": ".py",
   "mimetype": "text/x-python",
   "name": "python",
   "nbconvert_exporter": "python",
   "pygments_lexer": "ipython3",
   "version": "3.4.3"
  }
 },
 "nbformat": 4,
 "nbformat_minor": 0
}
